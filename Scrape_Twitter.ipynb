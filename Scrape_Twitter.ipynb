{
  "cells": [
    {
      "cell_type": "markdown",
      "metadata": {
        "id": "view-in-github",
        "colab_type": "text"
      },
      "source": [
        "<a href=\"https://colab.research.google.com/github/643020514-7/643020514-7/blob/main/Scrape_Twitter.ipynb\" target=\"_parent\"><img src=\"https://colab.research.google.com/assets/colab-badge.svg\" alt=\"Open In Colab\"/></a>"
      ]
    },
    {
      "cell_type": "markdown",
      "id": "e3f0f914",
      "metadata": {
        "id": "e3f0f914"
      },
      "source": [
        "# Twitter Data Crawler"
      ]
    },
    {
      "cell_type": "markdown",
      "id": "6f8afa7f",
      "metadata": {
        "id": "6f8afa7f"
      },
      "source": [
        "<img src=\"data:image/png;base64,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\">"
      ]
    },
    {
      "cell_type": "markdown",
      "id": "7866bdbc",
      "metadata": {
        "id": "7866bdbc"
      },
      "source": [
        "## Due Date: Sunday, September 18\n",
        "<br>\n",
        "<span style=\"color:red\">NOTE: There are always last minute issues submitting the case studies. DO NOT WAIT UNTIL THE LAST MINUTE!</span>"
      ]
    },
    {
      "cell_type": "markdown",
      "id": "830d61bd",
      "metadata": {
        "id": "830d61bd"
      },
      "source": [
        "## List team members:"
      ]
    },
    {
      "cell_type": "markdown",
      "id": "f280656e",
      "metadata": {
        "id": "f280656e"
      },
      "source": [
        "1. a\n",
        "2. b\n",
        "3. c\n",
        "4. d\n",
        "5. e\n",
        "6. f"
      ]
    },
    {
      "cell_type": "markdown",
      "id": "3306068f",
      "metadata": {
        "id": "3306068f"
      },
      "source": [
        "**NOTE**: Please don't forget to save the notebook frequently when working in IPython Notebook, otherwise the changes you made can be lost."
      ]
    },
    {
      "cell_type": "markdown",
      "id": "f6b4adb1",
      "metadata": {
        "id": "f6b4adb1"
      },
      "source": [
        "## Problem 1: Sampling Twitter Data about a certain topic"
      ]
    },
    {
      "cell_type": "markdown",
      "id": "bc56af3d",
      "metadata": {
        "id": "bc56af3d"
      },
      "source": [
        "* Select a topic that you are interested in, for example, \"Khon Kaen\" or \"Lisa\"\n",
        "* Use Twitter scraper to sample a collection of tweets about this topic in real time. (It would be recommended that the number of tweets should be larger than 200, but smaller than 1 million.)\n",
        "* Store the tweets you downloaded into a local file (txt, csv, or json file)"
      ]
    },
    {
      "cell_type": "markdown",
      "id": "86c1d961",
      "metadata": {
        "id": "86c1d961"
      },
      "source": [
        "Installing \"twitter-scraper-selenium\" package to scrape tweets with PyPI (The Python Package Index)\n",
        "<br>\n",
        "https://pypi.org/project/twitter-scraper-selenium/#keywordJson\n",
        "<br>\n",
        "Prerequisites for using the package:\n",
        "* Internet Connection\n",
        "* Python 3.6+\n",
        "* Chrome or Firefox browser installed on your machine"
      ]
    },
    {
      "cell_type": "markdown",
      "id": "4fe95d6c",
      "metadata": {
        "id": "4fe95d6c"
      },
      "source": [
        "Install the package if your computer has never used"
      ]
    },
    {
      "cell_type": "raw",
      "id": "067ce1e7",
      "metadata": {
        "id": "067ce1e7"
      },
      "source": [
        "!pip3 install twitter-scraper-selenium"
      ]
    },
    {
      "cell_type": "code",
      "source": [
        "!pip3 install twitter-scraper-selenium"
      ],
      "metadata": {
        "id": "TJap5UqGjU7b"
      },
      "id": "TJap5UqGjU7b",
      "execution_count": null,
      "outputs": []
    },
    {
      "cell_type": "raw",
      "id": "6ceaeab7",
      "metadata": {
        "id": "6ceaeab7"
      },
      "source": [
        "from twitter_scraper_selenium import scrap_profile"
      ]
    },
    {
      "cell_type": "code",
      "source": [
        "from twitter_scraper_selenium import get_profile_details\n",
        "\n",
        "twitter_username = \"TwitterAPI\"\n",
        "filename = \"twitter_api_data\"\n",
        "get_profile_details(twitter_username=twitter_username, filename=filename)"
      ],
      "metadata": {
        "id": "FxLJHZZWjYrL",
        "outputId": "fbb5cdea-1b30-46ec-f26f-9e714b766ff6",
        "colab": {
          "base_uri": "https://localhost:8080/",
          "height": 331
        }
      },
      "id": "FxLJHZZWjYrL",
      "execution_count": 7,
      "outputs": [
        {
          "output_type": "error",
          "ename": "TypeError",
          "evalue": "ignored",
          "traceback": [
            "\u001b[0;31m---------------------------------------------------------------------------\u001b[0m",
            "\u001b[0;31mTypeError\u001b[0m                                 Traceback (most recent call last)",
            "\u001b[0;32m<ipython-input-7-edbc3168986d>\u001b[0m in \u001b[0;36m<cell line: 5>\u001b[0;34m()\u001b[0m\n\u001b[1;32m      3\u001b[0m \u001b[0mtwitter_username\u001b[0m \u001b[0;34m=\u001b[0m \u001b[0;34m\"TwitterAPI\"\u001b[0m\u001b[0;34m\u001b[0m\u001b[0;34m\u001b[0m\u001b[0m\n\u001b[1;32m      4\u001b[0m \u001b[0mfilename\u001b[0m \u001b[0;34m=\u001b[0m \u001b[0;34m\"twitter_api_data\"\u001b[0m\u001b[0;34m\u001b[0m\u001b[0;34m\u001b[0m\u001b[0m\n\u001b[0;32m----> 5\u001b[0;31m \u001b[0mget_profile_details\u001b[0m\u001b[0;34m(\u001b[0m\u001b[0mtwitter_username\u001b[0m\u001b[0;34m=\u001b[0m\u001b[0mtwitter_username\u001b[0m\u001b[0;34m,\u001b[0m \u001b[0mfilename\u001b[0m\u001b[0;34m=\u001b[0m\u001b[0mfilename\u001b[0m\u001b[0;34m)\u001b[0m\u001b[0;34m\u001b[0m\u001b[0;34m\u001b[0m\u001b[0m\n\u001b[0m",
            "\u001b[0;32m/usr/local/lib/python3.10/dist-packages/twitter_scraper_selenium/profile_details.py\u001b[0m in \u001b[0;36mget_profile_details\u001b[0;34m(twitter_username, proxy, filename, directory)\u001b[0m\n\u001b[1;32m     56\u001b[0m         \u001b[0;31m# if filename was not provided then print the JSON to console\u001b[0m\u001b[0;34m\u001b[0m\u001b[0;34m\u001b[0m\u001b[0m\n\u001b[1;32m     57\u001b[0m         \u001b[0;32mreturn\u001b[0m \u001b[0mjson\u001b[0m\u001b[0;34m.\u001b[0m\u001b[0mdumps\u001b[0m\u001b[0;34m(\u001b[0m\u001b[0mdata\u001b[0m\u001b[0;34m)\u001b[0m\u001b[0;34m\u001b[0m\u001b[0;34m\u001b[0m\u001b[0m\n\u001b[0;32m---> 58\u001b[0;31m     \u001b[0;32melif\u001b[0m \u001b[0mfilename\u001b[0m \u001b[0;34m!=\u001b[0m \u001b[0;34m''\u001b[0m \u001b[0;32mand\u001b[0m \u001b[0mlen\u001b[0m\u001b[0;34m(\u001b[0m\u001b[0mdata\u001b[0m\u001b[0;34m)\u001b[0m \u001b[0;34m>\u001b[0m \u001b[0;36m0\u001b[0m\u001b[0;34m:\u001b[0m\u001b[0;34m\u001b[0m\u001b[0;34m\u001b[0m\u001b[0m\n\u001b[0m\u001b[1;32m     59\u001b[0m         \u001b[0;31m# if filename was provided, save it to that file\u001b[0m\u001b[0;34m\u001b[0m\u001b[0;34m\u001b[0m\u001b[0m\n\u001b[1;32m     60\u001b[0m         \u001b[0mmode\u001b[0m \u001b[0;34m=\u001b[0m \u001b[0;34m'w'\u001b[0m\u001b[0;34m\u001b[0m\u001b[0;34m\u001b[0m\u001b[0m\n",
            "\u001b[0;31mTypeError\u001b[0m: object of type 'NoneType' has no len()"
          ]
        }
      ]
    },
    {
      "cell_type": "raw",
      "id": "beda7f64",
      "metadata": {
        "id": "beda7f64"
      },
      "source": [
        "Scrap profile's tweets in JSON format:"
      ]
    },
    {
      "cell_type": "raw",
      "id": "ad2707f8",
      "metadata": {
        "id": "ad2707f8"
      },
      "source": [
        "collect_elon_json = scrap_profile(twitter_username=\"elonmusk\",output_format=\"json\",\n",
        "                          browser=\"chrome\",tweets_count=10)\n",
        "collect_elon_json"
      ]
    },
    {
      "cell_type": "code",
      "source": [
        "collect_elon_json = scrape_profile(twitter_username=\"elonmusk\",output_format=\"json\",browser=\"chrome\",tweets_count=10)\n",
        "collect_elon_json"
      ],
      "metadata": {
        "id": "pfD0XxDRj_j0",
        "outputId": "553bed80-d425-4c75-c925-e6737000115d",
        "colab": {
          "base_uri": "https://localhost:8080/",
          "height": 193
        }
      },
      "id": "pfD0XxDRj_j0",
      "execution_count": 12,
      "outputs": [
        {
          "output_type": "error",
          "ename": "NameError",
          "evalue": "ignored",
          "traceback": [
            "\u001b[0;31m---------------------------------------------------------------------------\u001b[0m",
            "\u001b[0;31mNameError\u001b[0m                                 Traceback (most recent call last)",
            "\u001b[0;32m<ipython-input-12-43dd2f779345>\u001b[0m in \u001b[0;36m<cell line: 1>\u001b[0;34m()\u001b[0m\n\u001b[0;32m----> 1\u001b[0;31m \u001b[0mcollect_elon_json\u001b[0m \u001b[0;34m=\u001b[0m \u001b[0mscrape_profile\u001b[0m\u001b[0;34m(\u001b[0m\u001b[0mtwitter_username\u001b[0m\u001b[0;34m=\u001b[0m\u001b[0;34m\"elonmusk\"\u001b[0m\u001b[0;34m,\u001b[0m\u001b[0moutput_format\u001b[0m\u001b[0;34m=\u001b[0m\u001b[0;34m\"json\"\u001b[0m\u001b[0;34m,\u001b[0m\u001b[0mbrowser\u001b[0m\u001b[0;34m=\u001b[0m\u001b[0;34m\"chrome\"\u001b[0m\u001b[0;34m,\u001b[0m\u001b[0mtweets_count\u001b[0m\u001b[0;34m=\u001b[0m\u001b[0;36m10\u001b[0m\u001b[0;34m)\u001b[0m\u001b[0;34m\u001b[0m\u001b[0;34m\u001b[0m\u001b[0m\n\u001b[0m\u001b[1;32m      2\u001b[0m \u001b[0mcollect_elon_json\u001b[0m\u001b[0;34m\u001b[0m\u001b[0;34m\u001b[0m\u001b[0m\n",
            "\u001b[0;31mNameError\u001b[0m: name 'scrape_profile' is not defined"
          ]
        }
      ]
    },
    {
      "cell_type": "code",
      "source": [],
      "metadata": {
        "id": "RBI4aVEFkJm6",
        "outputId": "e6e42a0f-b8ed-4b64-afa5-1ad0b08849de",
        "colab": {
          "base_uri": "https://localhost:8080/",
          "height": 175
        }
      },
      "id": "RBI4aVEFkJm6",
      "execution_count": 13,
      "outputs": [
        {
          "output_type": "error",
          "ename": "NameError",
          "evalue": "ignored",
          "traceback": [
            "\u001b[0;31m---------------------------------------------------------------------------\u001b[0m",
            "\u001b[0;31mNameError\u001b[0m                                 Traceback (most recent call last)",
            "\u001b[0;32m<ipython-input-13-6ecd10d8d3b2>\u001b[0m in \u001b[0;36m<cell line: 1>\u001b[0;34m()\u001b[0m\n\u001b[0;32m----> 1\u001b[0;31m \u001b[0mscrape_profile\u001b[0m\u001b[0;34m(\u001b[0m\u001b[0;34m)\u001b[0m\u001b[0;34m\u001b[0m\u001b[0;34m\u001b[0m\u001b[0m\n\u001b[0m",
            "\u001b[0;31mNameError\u001b[0m: name 'scrape_profile' is not defined"
          ]
        }
      ]
    },
    {
      "cell_type": "raw",
      "id": "4bf9c96d",
      "metadata": {
        "id": "4bf9c96d"
      },
      "source": [
        "from twitter_scraper_selenium import scrap_keyword\n",
        "\n",
        "> Indented block\n",
        "\n"
      ]
    },
    {
      "cell_type": "code",
      "source": [
        "from twitter_scraper_selenium import scrap_keyword"
      ],
      "metadata": {
        "id": "9vexC_AckTnP"
      },
      "id": "9vexC_AckTnP",
      "execution_count": null,
      "outputs": []
    },
    {
      "cell_type": "raw",
      "id": "f19e313d",
      "metadata": {
        "scrolled": false,
        "id": "f19e313d"
      },
      "source": [
        "#scrap 10 posts by searching keyword \"Thailand\" from date 30th August till date 31st August\n",
        "collect_thailand = scrap_keyword(keyword=\"thailand\", browser=\"firefox\",\n",
        "                                 tweets_count=30, output_format=\"json\", filename=\"Thailand\",\n",
        "                                 until=\"2022-08-31\", since=\"2021-08-30\")\n",
        "print(collect_thailand)"
      ]
    },
    {
      "cell_type": "raw",
      "id": "680f00a0",
      "metadata": {
        "id": "680f00a0"
      },
      "source": [
        "collect_thailand"
      ]
    },
    {
      "cell_type": "raw",
      "id": "8ba5ae5b",
      "metadata": {
        "scrolled": false,
        "id": "8ba5ae5b"
      },
      "source": [
        "import json\n",
        "data= json.dumps(collect_thailand)#, indent=1)\n",
        "\n",
        "file = open('thailand.txt','w')\n",
        "file.write(data)\n",
        "file.close()"
      ]
    },
    {
      "cell_type": "raw",
      "id": "4e83ff69",
      "metadata": {
        "id": "4e83ff69"
      },
      "source": [
        "data"
      ]
    },
    {
      "cell_type": "code",
      "execution_count": 15,
      "id": "afde8265",
      "metadata": {
        "id": "afde8265"
      },
      "outputs": [],
      "source": [
        "import json"
      ]
    },
    {
      "cell_type": "code",
      "source": [
        "from google.colab import drive\n",
        "drive.mount('/content/drive')"
      ],
      "metadata": {
        "colab": {
          "base_uri": "https://localhost:8080/"
        },
        "id": "6viQbOdTo5sh",
        "outputId": "e092ab1d-4deb-4d0e-c6e7-23e9e789fc0f"
      },
      "id": "6viQbOdTo5sh",
      "execution_count": 16,
      "outputs": [
        {
          "output_type": "stream",
          "name": "stdout",
          "text": [
            "Drive already mounted at /content/drive; to attempt to forcibly remount, call drive.mount(\"/content/drive\", force_remount=True).\n"
          ]
        }
      ]
    },
    {
      "cell_type": "code",
      "source": [
        "#!ls drive/MyDrive/"
      ],
      "metadata": {
        "id": "zO0I2BZdpY2D"
      },
      "id": "zO0I2BZdpY2D",
      "execution_count": 17,
      "outputs": []
    },
    {
      "cell_type": "code",
      "execution_count": 18,
      "id": "a6b52d1f",
      "metadata": {
        "id": "a6b52d1f"
      },
      "outputs": [],
      "source": [
        "file = open('/content/drive/MyDrive/python warehouse/thailand_tweets.txt','r') # rename\n",
        "foo = file.read()\n",
        "d = json.loads(foo)"
      ]
    },
    {
      "cell_type": "code",
      "execution_count": 6,
      "id": "3cd881c3",
      "metadata": {
        "colab": {
          "base_uri": "https://localhost:8080/",
          "height": 122
        },
        "id": "3cd881c3",
        "outputId": "76fadf3c-44af-48a5-b487-c10e479ea168"
      },
      "outputs": [
        {
          "output_type": "execute_result",
          "data": {
            "text/plain": [
              "'{\"1564764893038882816\": {\"tweet_id\": \"1564764893038882816\", \"username\": \"matthunter\", \"name\": \"MATT HUNT\\\\u039eR\", \"profile_picture\": \"https://twitter.com/matthunter/photo\", \"replies\": 2, \"retweets\": 1, \"likes\": 7, \"is_retweet\": false, \"posted_time\": \"2022-08-30T23:59:57+00:00\", \"content\": \"Thanks for asking! Yes, we will support shipping to most countries, including Japan and Thailand. \", \"hashtags\": [], \"mentions\": [], \"images\": [], \"videos\": [], \"tweet_url\": \"https://twitter.com/matthunter/status/1564764893038882816\", \"link\": \"\"}, \"1564764866598080513\": {\"tweet_id\": \"1564764866598080513\", \"username\": \"DavSmithVP\", \"name\": \"DavSmith / Virtual Photography\", \"profile_picture\": \"https://twitter.com/DavSmithVP/photo\", \"replies\": 0, \"retweets\": 0, \"likes\": 2, \"is_retweet\": false, \"posted_time\": \"2022-08-30T23:59:50+00:00\", \"content\": \"Tomb Raider Underworld | Thailand \\\\n#VirtualPhotography \\\\n@tombraider\\\\n @crystaldynamics\", \"hashtags\": [\"VirtualPhotography\"], \"mentions\": [\"tombraider\", \"crystaldynamics\"], \"images\": [\"https://pbs.twimg.com/media/FbcpF-FXkAIlqTS?format=jpg&name=small\"], \"videos\": [], \"tweet_url\": \"https://twitter.com/DavSmithVP/status/1564764866598080513\", \"link\": \"\"}, \"1564764845685280772\": {\"tweet_id\": \"1564764845685280772\", \"username\": \"DailyPattaya\", \"name\": \"The Pattaya Daily\", \"profile_picture\": \"https://twitter.com/DailyPattaya/photo\", \"replies\": 0, \"retweets\": 0, \"likes\": 0, \"is_retweet\": false, \"posted_time\": \"2022-08-30T23:59:45+00:00\", \"content\": \"The latest The Pattaya Daily! http://thepattayadaily.com Thanks to \\\\n@PopeKael\\\\n @ASEANNOWTH\\\\n #thailand #pattaya\", \"hashtags\": [\"thailand\", \"pattaya\"], \"mentions\": [\"PopeKael\", \"ASEANNOWTH\"], \"images\": [], \"videos\": [], \"tweet_url\": \"https://twitter.com/DailyPattaya/status/1564764845685280772\", \"link\": \"\"}, \"1564764710804897792\": {\"tweet_id\": \"1564764710804897792\", \"username\": \"Bryan62766077\", \"name\": \"Bryan\", \"profile_picture\": \"https://twitter.com/Bryan62766077/photo\", \"replies\": 1, \"retweets\": 0, \"likes\": 1, \"is_retweet\": false, \"posted_time\": \"2022-08-30T23:59:13+00:00\", \"content\": \"You can live some places for next to nothing, believe it or not. I pay $300 a month for a really nice apartment in Thailand. All utilities included. No deposit. Close to the beach. Live music clubs everywhere. Meals are about $2\", \"hashtags\": [], \"mentions\": [], \"images\": [], \"videos\": [], \"tweet_url\": \"https://twitter.com/Bryan62766077/status/1564764710804897792\", \"link\": \"\"}, \"1564764468277612549\": {\"tweet_id\": \"1564764468277612549\", \"username\": \"Megan_and_Grrr\", \"name\": \"Megan\", \"profile_picture\": \"https://twitter.com/Megan_and_Grrr/photo\", \"replies\": 0, \"retweets\": 0, \"likes\": 0, \"is_retweet\": false, \"posted_time\": \"2022-08-30T23:58:15+00:00\", \"content\": \"ALIEN HOUSE is a story of love, hope and alien intervention set in Wales, Thailand and Inner Space. It\\'s a #fantasy story about #extraterrestrial contact and the conflict between a man and his inner voice or alter ego. William is not sure if he\\'s going mad https://smarturl.it/alien-house-eng?IQid=jbmegan\\\\u2026\", \"hashtags\": [\"fantasy\", \"extraterrestrial\"], \"mentions\": [], \"images\": [\"https://pbs.twimg.com/media/Fbco_bSXEAMcDOZ?format=jpg&name=small\"], \"videos\": [], \"tweet_url\": \"https://twitter.com/Megan_and_Grrr/status/1564764468277612549\", \"link\": \"\"}, \"1564764445825458181\": {\"tweet_id\": \"1564764445825458181\", \"username\": \"OhmPawatInter\", \"name\": \"OhmPawat International\", \"profile_picture\": \"https://twitter.com/OhmPawatInter/photo\", \"replies\": 0, \"retweets\": 99, \"likes\": 143, \"is_retweet\": false, \"posted_time\": \"2022-08-30T23:58:10+00:00\", \"content\": \"Trend twitter update \\\\n\\\\nTop Twitter influencers in Thailand today \\\\n#4 \\\\n@ohmpawatt\\\\nInfluence Score: 19442\\\\n7 top tweets\\\\n25182 retweets\\\\n\\\\nhttps://etrenders.com/trendsetters/Thailand\\\\u2026\\\\n#ohmpawat #\\\\u0e22\\\\u0e34\\\\u0e49\\\\u0e215\\\\u0e1e\\\\u0e31\\\\u0e19\\\\u0e02\\\\u0e2d\\\\u0e07\\\\u0e42\\\\u0e2d\\\\u0e21\\\\u0e20\\\\u0e27\\\\u0e31\\\\u0e15\", \"hashtags\": [\"4\", \"ohmpawat\", \"\\\\u0e22\"], \"mentions\": [\"ohmpawatt\"], \"images\": [\"https://pbs.twimg.com/media/Fbco99jWIAEd3Oe?format=jpg&name=small\", \"https://pbs.twimg.com/media/Fbco-JwWYAE7oLy?format=jpg&name=small\"], \"videos\": [], \"tweet_url\": \"https://twitter.com/OhmPawatInter/status/1564764445825458181\", \"link\": \"\"}, \"1564764361742110720\": {\"tweet_id\": \"1564764361742110720\", \"username\": \"nato_tonyo11\", \"name\": \"nutri(BUSY SI ENGR.)| SoliD\", \"profile_picture\": \"https://twitter.com/nato_tonyo11/photo\", \"replies\": 0, \"retweets\": 2, \"likes\": 18, \"is_retweet\": false, \"posted_time\": \"2022-08-30T23:57:50+00:00\", \"content\": \"Good morning  world! And goodmorning to you too #DonnyPangilinan, enjoy Thailand babe and please do take selfies out there!, pagod nakong makikitang sapatos pa din nasa igs mo!!\", \"hashtags\": [\"DonnyPangilinan\"], \"mentions\": [], \"images\": [], \"videos\": [], \"tweet_url\": \"https://twitter.com/nato_tonyo11/status/1564764361742110720\", \"link\": \"\"}, \"1564764274098323456\": {\"tweet_id\": \"1564764274098323456\", \"username\": \"ThThitikarn61\", \"name\": \"thiti\", \"profile_picture\": \"https://twitter.com/ThThitikarn61/photo\", \"replies\": 0, \"retweets\": 0, \"likes\": 0, \"is_retweet\": false, \"posted_time\": \"2022-08-30T23:57:29+00:00\", \"content\": \"Listening to #faraway the title track of #theotherside album by #MarkTuan \\\\n@marktuan\\\\n while traveling to Thailand\", \"hashtags\": [\"faraway\", \"theotherside\", \"MarkTuan\"], \"mentions\": [\"marktuan\"], \"images\": [], \"videos\": [], \"tweet_url\": \"https://twitter.com/ThThitikarn61/status/1564764274098323456\", \"link\": \"\"}, \"1564764028014313472\": {\"tweet_id\": \"1564764028014313472\", \"username\": \"Livetradingnews\", \"name\": \"Knightly News\", \"profile_picture\": \"https://twitter.com/Livetradingnews/photo\", \"replies\": 0, \"retweets\": 2, \"likes\": 3, \"is_retweet\": false, \"posted_time\": \"2022-08-30T23:56:30+00:00\", \"content\": \"With the recent news of the SCB X-Bitkub deal falling apart and the Zipmex incident, investors in Thailand\\'s digital currency market are facing a negative outlook\", \"hashtags\": [], \"mentions\": [], \"images\": [], \"videos\": [], \"tweet_url\": \"https://twitter.com/Livetradingnews/status/1564764028014313472\", \"link\": \"\"}, \"1564763907700531202\": {\"tweet_id\": \"1564763907700531202\", \"username\": \"DiscoverSoc\", \"name\": \"Discover Society\", \"profile_picture\": \"https://twitter.com/DiscoverSoc/photo\", \"replies\": 0, \"retweets\": 1, \"likes\": 0, \"is_retweet\": false, \"posted_time\": \"2022-08-30T23:56:02+00:00\", \"content\": \"#ICYMI  On the Frontline. Crude Power in Thailand\\\\u2019s 2014 Coup: Old Soldiers Almost Die\", \"hashtags\": [\"ICYMI\"], \"mentions\": [], \"images\": [], \"videos\": [], \"tweet_url\": \"https://twitter.com/DiscoverSoc/status/1564763907700531202\", \"link\": \"https://t.co/OYQzv4BSm9\"}, \"1564763775403712513\": {\"tweet_id\": \"1564763775403712513\", \"username\": \"Onside10900651\", \"name\": \"Onside\", \"profile_picture\": \"https://twitter.com/Onside10900651/photo\", \"replies\": 0, \"retweets\": 0, \"likes\": 0, \"is_retweet\": false, \"posted_time\": \"2022-08-30T23:55:30+00:00\", \"content\": \"And I thought Thailand was absolutely democratic?\", \"hashtags\": [], \"mentions\": [], \"images\": [], \"videos\": [], \"tweet_url\": \"https://twitter.com/Onside10900651/status/1564763775403712513\", \"link\": \"\"}, \"1564763746463105026\": {\"tweet_id\": \"1564763746463105026\", \"username\": \"lekwilliams\", \"name\": \"Lek\", \"profile_picture\": \"https://twitter.com/lekwilliams/photo\", \"replies\": 0, \"retweets\": 0, \"likes\": 0, \"is_retweet\": false, \"posted_time\": \"2022-08-30T23:55:23+00:00\", \"content\": \"How far would you go to save the family farm and keep your siblings in school? Read what Lek did in \\'Behind The Smile, the story of Lek, a bar girl in Pattaya\\' by Owen Jones! https://smarturl.it/BTS-boxset?IQid=SJB-lw-thailand\\\\u2026 #pattaya #Thailand Please retweet\", \"hashtags\": [\"pattaya\", \"Thailand\"], \"mentions\": [], \"images\": [\"https://pbs.twimg.com/media/FbcoVHpWIAEh_R0?format=jpg&name=small\"], \"videos\": [], \"tweet_url\": \"https://twitter.com/lekwilliams/status/1564763746463105026\", \"link\": \"\"}, \"1564763729967054848\": {\"tweet_id\": \"1564763729967054848\", \"username\": \"o_rung_o1\", \"name\": \"o_Rung_o\", \"profile_picture\": \"https://twitter.com/o_rung_o1/photo\", \"replies\": 0, \"retweets\": 28, \"likes\": 15, \"is_retweet\": false, \"posted_time\": \"2022-08-30T23:55:19+00:00\", \"content\": \"\\\\u0e27\\\\u0e31\\\\u0e19\\\\u0e19\\\\u0e35\\\\u0e49\\\\u0e27\\\\u0e31\\\\u0e19\\\\u0e2a\\\\u0e38\\\\u0e14\\\\u0e17\\\\u0e49\\\\u0e32\\\\u0e22\\\\u0e02\\\\u0e2d\\\\u0e07\\\\u0e01\\\\u0e32\\\\u0e23\\\\u0e42\\\\u0e2b\\\\u0e27\\\\u0e15 \\\\u0e23\\\\u0e32\\\\u0e07\\\\u0e27\\\\u0e31\\\\u0e25 Outstanding Asian Star Thailand #SDA2022 \\\\u0e43\\\\u0e2b\\\\u0e49\\\\u0e19\\\\u0e49\\\\u0e2d\\\\u0e07\\\\u0e1e\\\\u0e35\\\\u0e1e\\\\u0e35\\\\u0e41\\\\u0e25\\\\u0e49\\\\u0e27\\\\u0e19\\\\u0e30\\\\u0e04\\\\u0e30 \\\\n\\\\u0e21\\\\u0e32\\\\u0e1e\\\\u0e32\\\\u0e19\\\\u0e49\\\\u0e2d\\\\u0e07\\\\u0e44\\\\u0e1b\\\\u0e23\\\\u0e31\\\\u0e1a\\\\u0e16\\\\u0e49\\\\u0e27\\\\u0e22\\\\u0e23\\\\u0e32\\\\u0e07\\\\u0e27\\\\u0e31\\\\u0e252\\\\u0e1b\\\\u0e35\\\\u0e0b\\\\u0e49\\\\u0e2d\\\\u0e19\\\\u0e01\\\\u0e31\\\\u0e19\\\\u0e04\\\\u0e48\\\\u0e30\\\\n#voteforppkritt \\\\n#ppkritt\", \"hashtags\": [\"SDA2022\", \"voteforppkritt\", \"ppkritt\"], \"mentions\": [], \"images\": [\"https://pbs.twimg.com/media/FbcoUQAaQAAIFME?format=jpg&name=small\"], \"videos\": [], \"tweet_url\": \"https://twitter.com/o_rung_o1/status/1564763729967054848\", \"link\": \"\"}, \"1564763679232405504\": {\"tweet_id\": \"1564763679232405504\", \"username\": \"sixhav\", \"name\": \"shi bangs\", \"profile_picture\": \"https://twitter.com/sixhav/photo\", \"replies\": 1, \"retweets\": 0, \"likes\": 1, \"is_retweet\": false, \"posted_time\": \"2022-08-30T23:55:07+00:00\", \"content\": \"right? 2 years ago he is just a simple born and raised guy from thailand who can barely speak thai and likes to do diys and make everything about math i just love how authentic he is hahaha have you seen his 1000 push ups one? \", \"hashtags\": [], \"mentions\": [], \"images\": [], \"videos\": [], \"tweet_url\": \"https://twitter.com/sixhav/status/1564763679232405504\", \"link\": \"\"}, \"1564763673662464003\": {\"tweet_id\": \"1564763673662464003\", \"username\": \"JaeJazee\", \"name\": \"\\\\u24b7\\\\u24c9\\\\u24c8ARMY\\\\ud560\\\\uba38\\\\ub2c8\\\\u1d36\\\\u1d39\\\\u1d36\\\\u1d37\\\\u00b3\\\\u1d36\", \"profile_picture\": \"https://twitter.com/JaeJazee/photo\", \"replies\": 0, \"retweets\": 0, \"likes\": 0, \"is_retweet\": false, \"posted_time\": \"2022-08-30T23:55:06+00:00\", \"content\": \"I knew I heard the beginning speech that Lisa had an Australian accent.  It is not that she is from Australia but Thailand... here is the explanation...\", \"hashtags\": [], \"mentions\": [], \"images\": [\"https://pbs.twimg.com/media/FbcoKGTWAAAA0-D?format=png&name=900x900\"], \"videos\": [], \"tweet_url\": \"https://twitter.com/JaeJazee/status/1564763673662464003\", \"link\": \"\"}, \"1564763553130655744\": {\"tweet_id\": \"1564763553130655744\", \"username\": \"chak4793\", \"name\": \"\\\\u00a2\\\\u043d\\\\u03b1\\\\u043a.\\\\u0454\\\\u0442\\\\u043d\", \"profile_picture\": \"https://twitter.com/chak4793/photo\", \"replies\": 1, \"retweets\": 0, \"likes\": 7, \"is_retweet\": false, \"posted_time\": \"2022-08-30T23:54:37+00:00\", \"content\": \"Can fluf merch send to Asian countries like Japan or Thailand?\", \"hashtags\": [], \"mentions\": [], \"images\": [], \"videos\": [], \"tweet_url\": \"https://twitter.com/chak4793/status/1564763553130655744\", \"link\": \"\"}, \"1564763407818952705\": {\"tweet_id\": \"1564763407818952705\", \"username\": \"SarahJa56317435\", \"name\": \"j\", \"profile_picture\": \"https://twitter.com/SarahJa56317435/photo\", \"replies\": 0, \"retweets\": 0, \"likes\": 0, \"is_retweet\": false, \"posted_time\": \"2022-08-30T23:54:02+00:00\", \"content\": \"= and the French people and also Thailand\\'s people that have not thrown lethal military barracks gas at an \\'Enemy of Thought\\' are the races to not survive a space race Masterclass\", \"hashtags\": [], \"mentions\": [], \"images\": [], \"videos\": [], \"tweet_url\": \"https://twitter.com/SarahJa56317435/status/1564763407818952705\", \"link\": \"\"}, \"1564763389058027521\": {\"tweet_id\": \"1564763389058027521\", \"username\": \"starrykws\", \"name\": \"em \\\\u263e\", \"profile_picture\": \"https://twitter.com/starrykws/photo\", \"replies\": 0, \"retweets\": 0, \"likes\": 0, \"is_retweet\": false, \"posted_time\": \"2022-08-30T23:53:58+00:00\", \"content\": \"woo.ddadda in thailand \", \"hashtags\": [], \"mentions\": [], \"images\": [\"https://pbs.twimg.com/media/FbcoAO_XkAA-Isn?format=jpg&name=360x360\", \"https://pbs.twimg.com/media/FbcoAPDXEAYc26T?format=jpg&name=360x360\"], \"videos\": [], \"tweet_url\": \"https://twitter.com/starrykws/status/1564763389058027521\", \"link\": \"\"}, \"1564763303989366784\": {\"tweet_id\": \"1564763303989366784\", \"username\": \"aisseutea\", \"name\": \"Cynthia Dewi\", \"profile_picture\": \"https://twitter.com/aisseutea/photo\", \"replies\": 1, \"retweets\": 0, \"likes\": 0, \"is_retweet\": false, \"posted_time\": \"2022-08-30T23:53:38+00:00\", \"content\": \"Kalo di thailand bukan dong :)\", \"hashtags\": [], \"mentions\": [], \"images\": [], \"videos\": [], \"tweet_url\": \"https://twitter.com/aisseutea/status/1564763303989366784\", \"link\": \"\"}, \"1564763292354355200\": {\"tweet_id\": \"1564763292354355200\", \"username\": \"LDN327\", \"name\": \"LDN327\", \"profile_picture\": \"https://twitter.com/LDN327/photo\", \"replies\": 1, \"retweets\": 7, \"likes\": 5, \"is_retweet\": false, \"posted_time\": \"2022-08-30T23:53:35+00:00\", \"content\": \"- please engage\\\\n\\\\nELLE Thailand  \\\\n https://instagram.com/p/Ch02SH7hGpq/ \\\\n  https://instagram.com/p/Ch0xESZB1kr/ \\\\n\\\\n#LISA #LALISA #Money\", \"hashtags\": [\"LISA\", \"LALISA\", \"Money\"], \"mentions\": [], \"images\": [], \"videos\": [], \"tweet_url\": \"https://twitter.com/LDN327/status/1564763292354355200\", \"link\": \"https://t.co/6aZ539h9RK\"}, \"1564763185244426240\": {\"tweet_id\": \"1564763185244426240\", \"username\": \"Jay_beebee\", \"name\": \"Jay Bee\", \"profile_picture\": \"https://twitter.com/Jay_beebee/photo\", \"replies\": 1, \"retweets\": 7, \"likes\": 7, \"is_retweet\": true, \"posted_time\": \"2022-08-30T23:53:09+00:00\", \"content\": \"\\\\u0e1e\\\\u0e23\\\\u0e49\\\\u0e2d\\\\u0e21\\\\u0e04\\\\u0e23\\\\u0e31\\\\u0e0a\\\\n\\\\nPlease,come to thailand.\\\\n \\\\n\\\\n#JAYB #\\\\uc81c\\\\uc774\\\\ube44 \\\\n@jaybnow_hr\\\\n#GOT7 #\\\\uac13\\\\uc138\\\\ube10 \\\\n@GOT7\\\\n#CDNZA \\\\n@cdnzarecords\\\\n#Def\", \"hashtags\": [\"JAYB\", \"\\\\uc81c\\\\uc774\\\\ube44\", \"GOT7\", \"\\\\uac13\\\\uc138\\\\ube10\", \"CDNZA\", \"Def\"], \"mentions\": [\"jaybnow_hr\", \"GOT7\", \"cdnzarecords\"], \"images\": [\"https://pbs.twimg.com/media/FbcmB6RUEAA75m6?format=jpg&name=small\"], \"videos\": [], \"tweet_url\": \"https://twitter.com/Jay_beebee/status/1564763185244426240\", \"link\": \"\"}, \"1564763141589897217\": {\"tweet_id\": \"1564763141589897217\", \"username\": \"Iovelydoll\", \"name\": \"\", \"profile_picture\": \"https://twitter.com/Iovelydoll/photo\", \"replies\": 0, \"retweets\": 0, \"likes\": 3, \"is_retweet\": true, \"posted_time\": \"2022-08-30T23:52:59+00:00\", \"content\": \"we need more ten vlogs in thailand...a girl can dream\", \"hashtags\": [], \"mentions\": [], \"images\": [\"https://pbs.twimg.com/media/EDNptiHUEAAqdwm?format=jpg&name=small\"], \"videos\": [], \"tweet_url\": \"https://twitter.com/Iovelydoll/status/1564763141589897217\", \"link\": \"\"}, \"1564763050477244417\": {\"tweet_id\": \"1564763050477244417\", \"username\": \"jaemmrchv\", \"name\": \"wonyoungiii | surprise cutie\", \"profile_picture\": \"https://twitter.com/jaemmrchv/photo\", \"replies\": 0, \"retweets\": 1, \"likes\": 0, \"is_retweet\": false, \"posted_time\": \"2022-08-30T23:52:37+00:00\", \"content\": \"@NaEMwi\\\\n @jaemwinner\\\\n @JAEMIN_THAILAND\", \"hashtags\": [], \"mentions\": [\"NaEMwi\", \"jaemwinner\", \"JAEMIN_THAILAND\"], \"images\": [], \"videos\": [], \"tweet_url\": \"https://twitter.com/jaemmrchv/status/1564763050477244417\", \"link\": \"\"}, \"1564762341324992513\": {\"tweet_id\": \"1564762341324992513\", \"username\": \"Zeepruk_jfc\", \"name\": \"ZeePruk_JapanFC\\\\uff08Rest\\\\uff09\", \"profile_picture\": \"https://twitter.com/Zeepruk_jfc/photo\", \"replies\": 2, \"retweets\": 54, \"likes\": 32, \"is_retweet\": false, \"posted_time\": \"2022-08-30T23:49:48+00:00\", \"content\": \"Can you help me?\\\\n\\\\ntracking number\\\\nFMP200001150XX\\\\n\\\\nDoes anyone know a shipping company in Thailand that handles this number?\\\\nI\\'m in trouble with no reply even if I contact the caller \\\\n\\\\n#Zunshine\", \"hashtags\": [\"Zunshine\"], \"mentions\": [], \"images\": [], \"videos\": [], \"tweet_url\": \"https://twitter.com/Zeepruk_jfc/status/1564762341324992513\", \"link\": \"\"}, \"1564762335192940544\": {\"tweet_id\": \"1564762335192940544\", \"username\": \"NFTLadyEve\", \"name\": \"NFTeVe\", \"profile_picture\": \"https://twitter.com/NFTLadyEve/photo\", \"replies\": 1, \"retweets\": 0, \"likes\": 1, \"is_retweet\": false, \"posted_time\": \"2022-08-30T23:49:47+00:00\", \"content\": \"how about Friday at 11 am? that way it will  be 10pm in Thailand & we can invite that crew.\\\\n@blossom_melonn\", \"hashtags\": [], \"mentions\": [\"blossom_melonn\"], \"images\": [], \"videos\": [], \"tweet_url\": \"https://twitter.com/NFTLadyEve/status/1564762335192940544\", \"link\": \"\"}, \"1564762170277052418\": {\"tweet_id\": \"1564762170277052418\", \"username\": \"AntzAntz1\", \"name\": \"palito..showcase\", \"profile_picture\": \"https://twitter.com/AntzAntz1/photo\", \"replies\": 0, \"retweets\": 0, \"likes\": 0, \"is_retweet\": false, \"posted_time\": \"2022-08-30T23:49:07+00:00\", \"content\": \"\\\\u0e40\\\\u0e1b\\\\u0e4a\\\\u0e01 \\\\u0e1b\\\\u0e32\\\\u0e25\\\\u0e4c\\\\u0e21\\\\u0e21\\\\u0e35\\\\u0e48 | Disney+ Hotstar Thailand https://youtu.be/541HmrdzmHc via \\\\n@YouTube\\\\n  #\\\\u0e40\\\\u0e1b\\\\u0e01\\\\u0e1c\\\\u0e25\\\\u0e34\\\\u0e15\\\\u0e42\\\\u0e0a\\\\u0e04 #PeckPaLitChoke\", \"hashtags\": [\"\\\\u0e40\\\\u0e1b\\\\u0e01\\\\u0e1c\\\\u0e25\", \"PeckPaLitChoke\"], \"mentions\": [\"YouTube\"], \"images\": [], \"videos\": [], \"tweet_url\": \"https://twitter.com/AntzAntz1/status/1564762170277052418\", \"link\": \"\"}, \"1564762027507458049\": {\"tweet_id\": \"1564762027507458049\", \"username\": \"taraxacumyx\", \"name\": \"Dandelion\", \"profile_picture\": \"https://twitter.com/taraxacumyx/photo\", \"replies\": 1, \"retweets\": 0, \"likes\": 0, \"is_retweet\": false, \"posted_time\": \"2022-08-30T23:48:33+00:00\", \"content\": \"@blueeyellowww\\\\n Yuk nabung buat ke Thailand wkwk\", \"hashtags\": [], \"mentions\": [\"blueeyellowww\"], \"images\": [], \"videos\": [], \"tweet_url\": \"https://twitter.com/taraxacumyx/status/1564762027507458049\", \"link\": \"\"}, \"1564761944061382656\": {\"tweet_id\": \"1564761944061382656\", \"username\": \"IrfanHazard10\", \"name\": \"Irfan Rapiansyah\", \"profile_picture\": \"https://twitter.com/IrfanHazard10/photo\", \"replies\": 0, \"retweets\": 0, \"likes\": 0, \"is_retweet\": false, \"posted_time\": \"2022-08-30T23:48:13+00:00\", \"content\": \"Padahal berharap pertama lawan Thailand atau Filipina\", \"hashtags\": [], \"mentions\": [], \"images\": [], \"videos\": [], \"tweet_url\": \"https://twitter.com/IrfanHazard10/status/1564761944061382656\", \"link\": \"\"}, \"1564761905410875392\": {\"tweet_id\": \"1564761905410875392\", \"username\": \"moanfIeur\", \"name\": \"\", \"profile_picture\": \"https://twitter.com/moanfIeur/photo\", \"replies\": 0, \"retweets\": 0, \"likes\": 0, \"is_retweet\": false, \"posted_time\": \"2022-08-30T23:48:04+00:00\", \"content\": \"Tinggal cari duitnya aja ini mah kalo di Thailand bisa pake Qris\", \"hashtags\": [], \"mentions\": [], \"images\": [], \"videos\": [], \"tweet_url\": \"https://twitter.com/moanfIeur/status/1564761905410875392\", \"link\": \"\"}}'"
            ],
            "application/vnd.google.colaboratory.intrinsic+json": {
              "type": "string"
            }
          },
          "metadata": {},
          "execution_count": 6
        }
      ],
      "source": [
        "d"
      ]
    },
    {
      "cell_type": "raw",
      "id": "27d8d497",
      "metadata": {
        "id": "27d8d497"
      },
      "source": [
        "#scrap 10 posts by searching keyword \"#lisa\" from date 30th August till date 31st August\n",
        "collect_lisa = scrap_keyword(keyword=\"#lisa\", browser=\"firefox\",\n",
        "                                 tweets_count=10, output_format=\"json\", filename=\"lisa\",\n",
        "                                 until=\"2022-08-31\", since=\"2021-08-30\")\n",
        "print(collect_lisa)"
      ]
    },
    {
      "cell_type": "code",
      "source": [
        "collect_lisa = scrap_keyword(keyword=\"#lisa\", browser=\"firefox\", tweets_count=10, output_format=\"json\", filename=\"lisa\", until=\"2022-08-31\", since=\"2021-08-30\")\n"
      ],
      "metadata": {
        "id": "Kliv7LGdimsn",
        "outputId": "5480c022-ec31-4e9b-8c32-40b97442cab6",
        "colab": {
          "base_uri": "https://localhost:8080/",
          "height": 175
        }
      },
      "id": "Kliv7LGdimsn",
      "execution_count": 21,
      "outputs": [
        {
          "output_type": "error",
          "ename": "NameError",
          "evalue": "ignored",
          "traceback": [
            "\u001b[0;31m---------------------------------------------------------------------------\u001b[0m",
            "\u001b[0;31mNameError\u001b[0m                                 Traceback (most recent call last)",
            "\u001b[0;32m<ipython-input-21-a05f87b0aa83>\u001b[0m in \u001b[0;36m<cell line: 1>\u001b[0;34m()\u001b[0m\n\u001b[0;32m----> 1\u001b[0;31m \u001b[0mcollect_lisa\u001b[0m \u001b[0;34m=\u001b[0m \u001b[0mscrap_keyword\u001b[0m\u001b[0;34m(\u001b[0m\u001b[0mkeyword\u001b[0m\u001b[0;34m=\u001b[0m\u001b[0;34m\"#lisa\"\u001b[0m\u001b[0;34m,\u001b[0m \u001b[0mbrowser\u001b[0m\u001b[0;34m=\u001b[0m\u001b[0;34m\"firefox\"\u001b[0m\u001b[0;34m,\u001b[0m \u001b[0mtweets_count\u001b[0m\u001b[0;34m=\u001b[0m\u001b[0;36m10\u001b[0m\u001b[0;34m,\u001b[0m \u001b[0moutput_format\u001b[0m\u001b[0;34m=\u001b[0m\u001b[0;34m\"json\"\u001b[0m\u001b[0;34m,\u001b[0m \u001b[0mfilename\u001b[0m\u001b[0;34m=\u001b[0m\u001b[0;34m\"lisa\"\u001b[0m\u001b[0;34m,\u001b[0m \u001b[0muntil\u001b[0m\u001b[0;34m=\u001b[0m\u001b[0;34m\"2022-08-31\"\u001b[0m\u001b[0;34m,\u001b[0m \u001b[0msince\u001b[0m\u001b[0;34m=\u001b[0m\u001b[0;34m\"2021-08-30\"\u001b[0m\u001b[0;34m)\u001b[0m\u001b[0;34m\u001b[0m\u001b[0;34m\u001b[0m\u001b[0m\n\u001b[0m",
            "\u001b[0;31mNameError\u001b[0m: name 'scrap_keyword' is not defined"
          ]
        }
      ]
    },
    {
      "cell_type": "code",
      "source": [
        "print(collect_lisa)"
      ],
      "metadata": {
        "id": "xyMwHO3rkcqa"
      },
      "id": "xyMwHO3rkcqa",
      "execution_count": null,
      "outputs": []
    },
    {
      "cell_type": "markdown",
      "id": "03d2c486",
      "metadata": {
        "id": "03d2c486"
      },
      "source": [
        "Save tweets in JSON to file"
      ]
    },
    {
      "cell_type": "raw",
      "id": "2171656e",
      "metadata": {
        "id": "2171656e"
      },
      "source": [
        "import json\n",
        "data= json.dumps(collect_elon_json, indent=1)\n",
        "\n",
        "file = open('ElonMusk.txt','w')\n",
        "file.write(data)\n",
        "file.close()"
      ]
    },
    {
      "cell_type": "code",
      "source": [
        "import json\n",
        "data= json.dumps(collect_elon_json, indent=1)\n",
        "\n",
        "file = open('ElonMusk.txt','w')\n",
        "file.write(data)\n",
        "file.close()"
      ],
      "metadata": {
        "id": "co5NM3wPkgYX"
      },
      "id": "co5NM3wPkgYX",
      "execution_count": null,
      "outputs": []
    },
    {
      "cell_type": "code",
      "execution_count": 23,
      "id": "87e2799a",
      "metadata": {
        "id": "87e2799a"
      },
      "outputs": [],
      "source": [
        "file = open('/content/drive/MyDrive/python warehouse/ElonMusk.txt','r')\n",
        "foo = file.read()\n",
        "d = json.loads(foo)"
      ]
    },
    {
      "cell_type": "code",
      "execution_count": 24,
      "id": "1846f871",
      "metadata": {
        "colab": {
          "base_uri": "https://localhost:8080/"
        },
        "id": "1846f871",
        "outputId": "b82ce3f3-68cb-40f3-9526-1163f4772750"
      },
      "outputs": [
        {
          "output_type": "execute_result",
          "data": {
            "text/plain": [
              "str"
            ]
          },
          "metadata": {},
          "execution_count": 24
        }
      ],
      "source": [
        "type(d)"
      ]
    },
    {
      "cell_type": "code",
      "execution_count": 25,
      "id": "b38363ae",
      "metadata": {
        "colab": {
          "base_uri": "https://localhost:8080/",
          "height": 122
        },
        "id": "b38363ae",
        "outputId": "34f19dab-caa0-42c4-d9ca-5c1761607f4b"
      },
      "outputs": [
        {
          "output_type": "execute_result",
          "data": {
            "text/plain": [
              "'{\"1615406697849442304\": {\"tweet_id\": \"1615406697849442304\", \"username\": \"elonmusk\", \"name\": \"Elon Musk\", \"profile_picture\": \"https://twitter.com/elonmusk/photo\", \"replies\": 4293, \"retweets\": 6386, \"likes\": 40792, \"is_retweet\": false, \"retweet_link\": \"\", \"posted_time\": \"2023-01-17T17:52:24+00:00\", \"content\": \"The party is on!!   \", \"hashtags\": [], \"mentions\": [], \"images\": [], \"videos\": [], \"tweet_url\": \"https://twitter.com/elonmusk/status/1615406697849442304\", \"link\": \"https://t.co/zoa3qmcXqC\"}, \"1615398789585731587\": {\"tweet_id\": \"1615398789585731587\", \"username\": \"elonmusk\", \"name\": \"Elon Musk\", \"profile_picture\": \"https://twitter.com/elonmusk/photo\", \"replies\": 3143, \"retweets\": 3838, \"likes\": 16395, \"is_retweet\": false, \"retweet_link\": \"\", \"posted_time\": \"2023-01-17T17:20:58+00:00\", \"content\": \"Companies in general are missing the incredible opportunity that Twitter provides to reach customers. \\\\n\\\\nJust Tweet interesting things! That\\\\u2019s all it takes.\", \"hashtags\": [], \"mentions\": [], \"images\": [], \"videos\": [], \"tweet_url\": \"https://twitter.com/elonmusk/status/1615398789585731587\", \"link\": \"\"}, \"1615397502798409729\": {\"tweet_id\": \"1615397502798409729\", \"username\": \"elonmusk\", \"name\": \"Elon Musk\", \"profile_picture\": \"https://twitter.com/elonmusk/photo\", \"replies\": 4197, \"retweets\": 6031, \"likes\": 32977, \"is_retweet\": false, \"retweet_link\": \"\", \"posted_time\": \"2023-01-17T17:15:51+00:00\", \"content\": \"The Car Aquatic\", \"hashtags\": [], \"mentions\": [], \"images\": [\"https://pbs.twimg.com/amplify_video_thumb/1615213540633346048/img/OpcnFGvW_-vLrDPi.jpg\"], \"videos\": [\"blob:https://twitter.com/481ef58c-e566-46f2-85c2-c57695ee571d\"], \"tweet_url\": \"https://twitter.com/elonmusk/status/1615397502798409729\", \"link\": \"\"}, \"1615194151737520128\": {\"tweet_id\": \"1615194151737520128\", \"username\": \"elonmusk\", \"name\": \"Elon Musk\", \"profile_picture\": \"https://twitter.com/elonmusk/photo\", \"replies\": 17350, \"retweets\": 18366, \"likes\": 147883, \"is_retweet\": false, \"retweet_link\": \"\", \"posted_time\": \"2023-01-17T03:47:49+00:00\", \"content\": \"Trashing accounts that you hate will cause our algorithm to show you more of those accounts, as it is keying off of your interactions.\\\\n\\\\nBasically saying if you love trashing *that* account, then you will probably also love trashing *this* account. Not actually wrong lol.\", \"hashtags\": [], \"mentions\": [], \"images\": [], \"videos\": [], \"tweet_url\": \"https://twitter.com/elonmusk/status/1615194151737520128\", \"link\": \"\"}, \"1614851530016067586\": {\"tweet_id\": \"1614851530016067586\", \"username\": \"elonmusk\", \"name\": \"Elon Musk\", \"profile_picture\": \"https://twitter.com/elonmusk/photo\", \"replies\": 7493, \"retweets\": 11802, \"likes\": 138918, \"is_retweet\": false, \"retweet_link\": \"\", \"posted_time\": \"2023-01-16T05:06:21+00:00\", \"content\": \"Kudos to the BBC for self-labelling its state affiliation\", \"hashtags\": [], \"mentions\": [], \"images\": [], \"videos\": [], \"tweet_url\": \"https://twitter.com/elonmusk/status/1614851530016067586\", \"link\": \"\"}, \"1614794711449079808\": {\"tweet_id\": \"1614794711449079808\", \"username\": \"elonmusk\", \"name\": \"Elon Musk\", \"profile_picture\": \"https://twitter.com/elonmusk/photo\", \"replies\": 11992, \"retweets\": 17051, \"likes\": 157085, \"is_retweet\": false, \"retweet_link\": \"\", \"posted_time\": \"2023-01-16T01:20:35+00:00\", \"content\": \"And that\\\\u2019s how we will land on Mars\", \"hashtags\": [], \"mentions\": [], \"images\": [\"https://pbs.twimg.com/ext_tw_video_thumb/1614791754523496448/pu/img/Ftnq5ZrPI6_ffx8p.jpg\"], \"videos\": [\"blob:https://twitter.com/b1610de2-5ef3-45e4-b92d-84afe8917cdf\"], \"tweet_url\": \"https://twitter.com/elonmusk/status/1614794711449079808\", \"link\": \"\"}, \"1614775803644116993\": {\"tweet_id\": \"1614775803644116993\", \"username\": \"elonmusk\", \"name\": \"Elon Musk\", \"profile_picture\": \"https://twitter.com/elonmusk/photo\", \"replies\": 5391, \"retweets\": 8972, \"likes\": 140578, \"is_retweet\": false, \"retweet_link\": \"\", \"posted_time\": \"2023-01-16T00:05:27+00:00\", \"content\": \"Falcon Heavy Ascends\", \"hashtags\": [], \"mentions\": [], \"images\": [\"https://pbs.twimg.com/media/FmjWB6KaMAAWYnv?format=jpg&name=small\"], \"videos\": [], \"tweet_url\": \"https://twitter.com/elonmusk/status/1614775803644116993\", \"link\": \"\"}, \"1614761844010528770\": {\"tweet_id\": \"1614761844010528770\", \"username\": \"elonmusk\", \"name\": \"Elon Musk\", \"profile_picture\": \"https://twitter.com/elonmusk/photo\", \"replies\": 143082, \"retweets\": 72384, \"likes\": 622269, \"is_retweet\": false, \"retweet_link\": \"\", \"posted_time\": \"2023-01-15T23:09:59+00:00\", \"content\": \"Instagram makes people depressed & Twitter makes people angry. Which is better?\", \"hashtags\": [], \"mentions\": [], \"images\": [], \"videos\": [], \"tweet_url\": \"https://twitter.com/elonmusk/status/1614761844010528770\", \"link\": \"\"}, \"1614760728384401408\": {\"tweet_id\": \"1614760728384401408\", \"username\": \"SpaceX\", \"name\": \"SpaceX\", \"profile_picture\": \"https://twitter.com/SpaceX/photo\", \"replies\": 1502, \"retweets\": 5205, \"likes\": 36093, \"is_retweet\": true, \"retweet_link\": \"https://twitter.com/SpaceX/status/1614760728384401408\", \"posted_time\": \"2023-01-15T23:05:33+00:00\", \"content\": \"Falcon Heavy\\\\u2019s side boosters have landed\", \"hashtags\": [], \"mentions\": [], \"images\": [\"https://pbs.twimg.com/amplify_video_thumb/1614760625313583105/img/ywq1az9vQpwgV0Hz.jpg\"], \"videos\": [\"blob:https://twitter.com/b0010a74-21e8-4b46-9bb4-53216dd04c7b\"], \"tweet_url\": \"https://twitter.com/SpaceX/status/1614760728384401408\", \"link\": \"\"}, \"1614754358813675520\": {\"tweet_id\": \"1614754358813675520\", \"username\": \"SpaceX\", \"name\": \"SpaceX\", \"profile_picture\": \"https://twitter.com/SpaceX/photo\", \"replies\": 1133, \"retweets\": 3454, \"likes\": 18207, \"is_retweet\": true, \"retweet_link\": \"https://twitter.com/SpaceX/status/1614754358813675520\", \"posted_time\": \"2023-01-15T22:40:14+00:00\", \"content\": \"Watch Falcon Heavy launch the USSF-67 mission to orbit \\\\u2192 http://spacex.com/launches\", \"hashtags\": [], \"mentions\": [], \"images\": [], \"videos\": [\"blob:https://twitter.com/be535856-d56a-4c09-b001-3c786c9d299d\"], \"tweet_url\": \"https://twitter.com/SpaceX/status/1614754358813675520\", \"link\": \"https://twitter.com/i/broadcasts/1ynJOadQQnrKR\"}}'"
            ],
            "application/vnd.google.colaboratory.intrinsic+json": {
              "type": "string"
            }
          },
          "metadata": {},
          "execution_count": 25
        }
      ],
      "source": [
        "d"
      ]
    },
    {
      "cell_type": "code",
      "execution_count": null,
      "id": "3247972c",
      "metadata": {
        "id": "3247972c"
      },
      "outputs": [],
      "source": [
        "elon_json = json.loads(d)\n",
        "elon_json"
      ]
    },
    {
      "cell_type": "code",
      "execution_count": 27,
      "id": "1b19c117",
      "metadata": {
        "scrolled": true,
        "colab": {
          "base_uri": "https://localhost:8080/"
        },
        "id": "1b19c117",
        "outputId": "2c2fa392-58d1-4d70-c855-e599b46d0e45"
      },
      "outputs": [
        {
          "output_type": "execute_result",
          "data": {
            "text/plain": [
              "dict_keys(['1615406697849442304', '1615398789585731587', '1615397502798409729', '1615194151737520128', '1614851530016067586', '1614794711449079808', '1614775803644116993', '1614761844010528770', '1614760728384401408', '1614754358813675520'])"
            ]
          },
          "metadata": {},
          "execution_count": 27
        }
      ],
      "source": [
        "elon_json.keys()"
      ]
    },
    {
      "cell_type": "markdown",
      "id": "90d91a52",
      "metadata": {
        "id": "90d91a52"
      },
      "source": [
        "Most datasets provide only Tweet ID where we can retrieve tweets from tweet ID as follow.\n",
        "\n",
        "`twitter.com/anyuser/status/<tweet_id>`"
      ]
    },
    {
      "cell_type": "markdown",
      "id": "2baab303",
      "metadata": {
        "id": "2baab303"
      },
      "source": [
        "twitter.com/anyuser/status/1615406697849442304"
      ]
    },
    {
      "cell_type": "code",
      "execution_count": null,
      "id": "9b3dc416",
      "metadata": {
        "scrolled": false,
        "id": "9b3dc416"
      },
      "outputs": [],
      "source": [
        "first_key = list(elon_json.keys())[0]\n",
        "elon_json[first_key]"
      ]
    },
    {
      "cell_type": "code",
      "execution_count": 40,
      "id": "87d0f979",
      "metadata": {
        "colab": {
          "base_uri": "https://localhost:8080/"
        },
        "id": "87d0f979",
        "outputId": "e360e979-751a-44fe-d809-8e5813acb665"
      },
      "outputs": [
        {
          "output_type": "execute_result",
          "data": {
            "text/plain": [
              "dict_keys(['tweet_id', 'username', 'name', 'profile_picture', 'replies', 'retweets', 'likes', 'is_retweet', 'retweet_link', 'posted_time', 'content', 'hashtags', 'mentions', 'images', 'videos', 'tweet_url', 'link'])"
            ]
          },
          "metadata": {},
          "execution_count": 40
        }
      ],
      "source": [
        "elon_json[first_key].keys()"
      ]
    },
    {
      "cell_type": "code",
      "execution_count": 44,
      "id": "58f866d9",
      "metadata": {
        "scrolled": true,
        "colab": {
          "base_uri": "https://localhost:8080/",
          "height": 35
        },
        "id": "58f866d9",
        "outputId": "b15b8d51-c41c-4b65-adca-14bb2be1fdc9"
      },
      "outputs": [
        {
          "output_type": "execute_result",
          "data": {
            "text/plain": [
              "'The party is on!!   '"
            ],
            "application/vnd.google.colaboratory.intrinsic+json": {
              "type": "string"
            }
          },
          "metadata": {},
          "execution_count": 44
        }
      ],
      "source": [
        "elon_json[first_key]['content']"
      ]
    },
    {
      "cell_type": "markdown",
      "id": "9e55fa79",
      "metadata": {
        "id": "9e55fa79"
      },
      "source": [
        "#### Pretty print json/dict object"
      ]
    },
    {
      "cell_type": "code",
      "execution_count": null,
      "id": "95573836",
      "metadata": {
        "id": "95573836"
      },
      "outputs": [],
      "source": [
        "import pprint\n",
        "pprint.pprint(elon_json)"
      ]
    },
    {
      "cell_type": "markdown",
      "id": "daf54a23",
      "metadata": {
        "id": "daf54a23"
      },
      "source": [
        "In fact, `pandas` has `pandas.read_json(<file_dir>)` function to read json file into dataframe"
      ]
    },
    {
      "cell_type": "code",
      "execution_count": 46,
      "id": "d3b27de3",
      "metadata": {
        "id": "d3b27de3"
      },
      "outputs": [],
      "source": [
        "import pandas as pd\n",
        "from io import StringIO # using StringIO to prevent ValueError"
      ]
    },
    {
      "cell_type": "raw",
      "id": "e1d38839",
      "metadata": {
        "id": "e1d38839"
      },
      "source": [
        "pd.read_json(StringIO(collect_lisa), orient='index')"
      ]
    },
    {
      "cell_type": "code",
      "source": [
        "pd.read_json(StringIO(collect_lisa), orient='index')"
      ],
      "metadata": {
        "id": "RLjmvylriifj",
        "outputId": "65c9f1b7-e3f2-4345-f2be-1badc6fb9624",
        "colab": {
          "base_uri": "https://localhost:8080/",
          "height": 175
        }
      },
      "id": "RLjmvylriifj",
      "execution_count": 47,
      "outputs": [
        {
          "output_type": "error",
          "ename": "NameError",
          "evalue": "ignored",
          "traceback": [
            "\u001b[0;31m---------------------------------------------------------------------------\u001b[0m",
            "\u001b[0;31mNameError\u001b[0m                                 Traceback (most recent call last)",
            "\u001b[0;32m<ipython-input-47-b38746167417>\u001b[0m in \u001b[0;36m<cell line: 1>\u001b[0;34m()\u001b[0m\n\u001b[0;32m----> 1\u001b[0;31m \u001b[0mpd\u001b[0m\u001b[0;34m.\u001b[0m\u001b[0mread_json\u001b[0m\u001b[0;34m(\u001b[0m\u001b[0mStringIO\u001b[0m\u001b[0;34m(\u001b[0m\u001b[0mcollect_lisa\u001b[0m\u001b[0;34m)\u001b[0m\u001b[0;34m,\u001b[0m \u001b[0morient\u001b[0m\u001b[0;34m=\u001b[0m\u001b[0;34m'index'\u001b[0m\u001b[0;34m)\u001b[0m\u001b[0;34m\u001b[0m\u001b[0;34m\u001b[0m\u001b[0m\n\u001b[0m",
            "\u001b[0;31mNameError\u001b[0m: name 'collect_lisa' is not defined"
          ]
        }
      ]
    },
    {
      "cell_type": "raw",
      "id": "ac6008d0",
      "metadata": {
        "id": "ac6008d0"
      },
      "source": [
        "pd.read_json(StringIO(collect_thailand), orient='index').head()"
      ]
    },
    {
      "cell_type": "code",
      "execution_count": null,
      "id": "ae0fb6b9",
      "metadata": {
        "id": "ae0fb6b9"
      },
      "outputs": [],
      "source": [
        "pd.read_json(StringIO(d), orient='index').head()"
      ]
    },
    {
      "cell_type": "code",
      "execution_count": null,
      "id": "0394a671",
      "metadata": {
        "id": "0394a671"
      },
      "outputs": [],
      "source": [
        "contents = \" \".join([elon_json[key]['content'] for key in elon_json.keys()])\n",
        "print(contents)"
      ]
    },
    {
      "cell_type": "code",
      "execution_count": null,
      "id": "7d5ec0ae",
      "metadata": {
        "id": "7d5ec0ae"
      },
      "outputs": [],
      "source": [
        "from PIL import Image\n",
        "from wordcloud import WordCloud, STOPWORDS, ImageColorGenerator\n",
        "import matplotlib.pyplot as plt\n",
        "\n",
        "# Create and generate a word cloud image:\n",
        "wordcloud = WordCloud().generate(contents)\n",
        "wordcloud"
      ]
    },
    {
      "cell_type": "code",
      "execution_count": null,
      "id": "eb938231",
      "metadata": {
        "id": "eb938231"
      },
      "outputs": [],
      "source": [
        "# Display the generated image:\n",
        "plt.imshow(wordcloud, interpolation='bilinear')\n",
        "plt.axis(\"off\")\n",
        "plt.show()"
      ]
    },
    {
      "cell_type": "code",
      "execution_count": null,
      "id": "aa63a52b",
      "metadata": {
        "id": "aa63a52b"
      },
      "outputs": [],
      "source": [
        "# Create stopword list:\n",
        "my_stopwords = set(STOPWORDS)\n",
        "my_stopwords.update([\"will\"])\n",
        "\n",
        "# Generate a word cloud image\n",
        "wordcloud = WordCloud(stopwords=my_stopwords, background_color=\"white\").generate(contents)\n",
        "\n",
        "# Display the generated image:\n",
        "# the matplotlib way:\n",
        "plt.imshow(wordcloud, interpolation='bilinear')\n",
        "plt.axis(\"off\")\n",
        "plt.show()"
      ]
    }
  ],
  "metadata": {
    "kernelspec": {
      "display_name": "Python 3 (ipykernel)",
      "language": "python",
      "name": "python3"
    },
    "language_info": {
      "codemirror_mode": {
        "name": "ipython",
        "version": 3
      },
      "file_extension": ".py",
      "mimetype": "text/x-python",
      "name": "python",
      "nbconvert_exporter": "python",
      "pygments_lexer": "ipython3",
      "version": "3.8.8"
    },
    "colab": {
      "provenance": [],
      "include_colab_link": true
    }
  },
  "nbformat": 4,
  "nbformat_minor": 5
}